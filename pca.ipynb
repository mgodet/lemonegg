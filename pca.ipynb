{
 "cells": [
  {
   "cell_type": "markdown",
   "id": "27faaa3e-791e-43bd-b974-03f73226abb2",
   "metadata": {},
   "source": [
    "# Visualisation et traitement statistique des données chimiques"
   ]
  },
  {
   "cell_type": "code",
   "execution_count": null,
   "id": "dd66cbc7-7d15-45d2-b4ad-378b82e63342",
   "metadata": {},
   "outputs": [],
   "source": [
    "import ipywidgets as widgets\n",
    "import io\n",
    "import pandas as pd\n",
    "import numpy as np\n",
    "from sklearn.preprocessing import StandardScaler\n",
    "from sklearn.decomposition import PCA\n",
    "import matplotlib.pyplot as plt\n",
    "\n",
    "# Inspiré de https://fxjollois.github.io/cours-2019-2020/lp-iot--python-ds/seance2-ACP-classif.html\n"
   ]
  },
  {
   "cell_type": "markdown",
   "id": "528352c5-cd57-44ed-87d1-6ed08fa2a4ee",
   "metadata": {},
   "source": [
    "## Upload du fichier excel de données"
   ]
  },
  {
   "cell_type": "code",
   "execution_count": null,
   "id": "2c251c5e-8658-4410-b349-7fae4ef2c97b",
   "metadata": {},
   "outputs": [],
   "source": [
    "uploader_dataset = widgets.FileUpload(description=\"AGLAE PCA dataset\")\n",
    "display(uploader_dataset)"
   ]
  },
  {
   "cell_type": "code",
   "execution_count": null,
   "id": "ab99aed7-7537-45f8-9d53-86cd49685bf7",
   "metadata": {},
   "outputs": [],
   "source": [
    "reliure_complet = pd.read_excel(io.BytesIO(uploader_dataset.value[0].content), sheet_name = \"translucid transparent\", header = 0, index_col=None)\n",
    "print(\"Aperçu du DataFrame:\")\n",
    "reliure_complet.head(5)"
   ]
  },
  {
   "cell_type": "markdown",
   "id": "16315966-9697-4b48-82eb-4607330965f0",
   "metadata": {},
   "source": [
    "## Standardisation des données pour PCA"
   ]
  },
  {
   "cell_type": "markdown",
   "id": "931add21-700a-4a0a-b8f3-9e047ae8c5a2",
   "metadata": {},
   "source": [
    "On sélectionne uniquement les colonnes numériques correspondant aux éléments chimiques"
   ]
  },
  {
   "cell_type": "code",
   "execution_count": null,
   "id": "b33c0163-ea9d-49be-a5b6-88983d9460e0",
   "metadata": {},
   "outputs": [],
   "source": [
    "reliure_num = reliure_complet.drop(columns = [\"Localisation\",\"Zone mesurée\",\"Couleur\",\"Type de verre\"])\n",
    "print(\"\\nColonnes des éléments chimiques utilisées pour la PCA:\")\n",
    "reliure_num.head(5)"
   ]
  },
  {
   "cell_type": "markdown",
   "id": "81bcae76-8896-444c-b04b-586330b038ff",
   "metadata": {},
   "source": [
    "### Normalisation du dataset à 100% si on a enlevé des éléments chimiques"
   ]
  },
  {
   "cell_type": "code",
   "execution_count": null,
   "id": "8199daaa-56df-4502-83ec-26a2900e3fdc",
   "metadata": {},
   "outputs": [],
   "source": [
    "reliure_num_normalise = reliure_num.div(reliure_num.sum(axis=1), axis=0) * 100\n",
    "reliure_num_normalise.head(5)"
   ]
  },
  {
   "cell_type": "markdown",
   "id": "ef40dcea-f24f-4685-922a-57b4f7669899",
   "metadata": {},
   "source": [
    "On effectue la standardisation soit le centrage (soustration de la moyenne de chaque variable) puis la réduction (division de chaque variable par son écart-type) des données avec la fonction StandardScaler(). Le but est d'obtenir une moyenne nulle et un écart-type égal à 1 pour chaque variable. Cela garantit que chaque variable contribue de manière équitable à l'analyse sans qu'une variable à forte variance ne domine les résultats de la PCA."
   ]
  },
  {
   "cell_type": "code",
   "execution_count": null,
   "id": "4df47e3e-44f9-47af-8d83-ec39a6b694cd",
   "metadata": {},
   "outputs": [],
   "source": [
    "scaler = StandardScaler()\n",
    "reliure_num_norm = scaler.fit_transform(reliure_num_normalise)"
   ]
  },
  {
   "cell_type": "markdown",
   "id": "027cc884-0748-4212-9b2e-af007ad24f77",
   "metadata": {},
   "source": [
    "## Calcul de la PCA"
   ]
  },
  {
   "cell_type": "code",
   "execution_count": null,
   "id": "c588b519-733c-43b9-ae22-a2f342d89e82",
   "metadata": {},
   "outputs": [],
   "source": [
    "pca = PCA()\n",
    "pca.fit(reliure_num_norm)\n",
    "#resultat_pca = pca.fit_transform(colonnes_elements_standardisees)\n",
    "\n",
    "print(pca.explained_variance_)\n",
    "print(pca.explained_variance_ratio_)\n",
    "print(pca.n_components_)"
   ]
  },
  {
   "cell_type": "markdown",
   "id": "8f85d109-05f0-48df-b358-e4f44069e638",
   "metadata": {},
   "source": [
    "### Variance expliquée \n",
    "On fait un tableau récapitulatif avec les variances expliquées et le ratio de variance expliquée par dimension."
   ]
  },
  {
   "cell_type": "code",
   "execution_count": null,
   "id": "e19346da-a467-4a87-8da9-eb65163eef0f",
   "metadata": {},
   "outputs": [],
   "source": [
    "eig = pd.DataFrame(\n",
    "    {\n",
    "        \"Dimension\" : [\"Dim\" + str(x + 1) for x in range(pca.n_components_)], \n",
    "        \"Variance expliquée\" : pca.explained_variance_,\n",
    "        \"% variance expliquée\" : np.round(pca.explained_variance_ratio_ * 100),\n",
    "        \"% cum. var. expliquée\" : np.round(np.cumsum(pca.explained_variance_ratio_) * 100)\n",
    "    }\n",
    ")\n",
    "\n",
    "eig"
   ]
  },
  {
   "cell_type": "markdown",
   "id": "e8bb9a04-3bca-4cd6-a20e-faac8f1be182",
   "metadata": {},
   "source": [
    "On représente graphiquement les proportions de variance expliquée"
   ]
  },
  {
   "cell_type": "code",
   "execution_count": null,
   "id": "59179ddc-d152-4a87-bf14-d37d865252ef",
   "metadata": {},
   "outputs": [],
   "source": [
    "# On choisit un subset du tableau avec des valeurs non nulles\n",
    "eig_subset = eig.iloc[:16] \n",
    "ax = eig_subset.plot.bar(x=\"Dimension\", y=\"% variance expliquée\", color=\"blue\")\n",
    "# Parcourir chaque barre (patch) pour annoter sa valeur\n",
    "for p in ax.patches:\n",
    "    # p.get_height() correspond à la hauteur de la barre (la valeur y)\n",
    "    ax.annotate(f'{p.get_height():.0f}%', \n",
    "                (p.get_x() + p.get_width() / 2, p.get_height()), \n",
    "                ha='center', va='bottom', fontsize=12)\n",
    "plt.show()\n"
   ]
  },
  {
   "cell_type": "markdown",
   "id": "76e0c709-15a8-494b-a632-c4d548a9ce82",
   "metadata": {},
   "source": [
    "## Représentation des individus\n",
    "Nous allons maintenant calculer les coordonnées des individus sur les dimensions avec la fonction transform() de l'objet pca"
   ]
  },
  {
   "cell_type": "code",
   "execution_count": null,
   "id": "a57fbb3b-7ed0-4fb1-b59c-4e0ca39af088",
   "metadata": {},
   "outputs": [],
   "source": [
    "reliure_pca = pca.transform(reliure_num_norm)\n",
    "\n",
    "# On crée un dataframe avec le nombre de colonnes = le nombre de composantes obtenues par la PCA\n",
    "reliure_pca_df = pd.DataFrame(reliure_pca, columns = [f\"Dim{i+1}\" for i in range(reliure_pca.shape[1])])\n",
    "reliure_pca_df[\"Localisation\"] = reliure_complet[\"Localisation\"]\n",
    "reliure_pca_df[\"Couleur\"] = reliure_complet[\"Couleur\"]\n",
    "\n",
    "reliure_pca_df.head(10)\n"
   ]
  },
  {
   "cell_type": "markdown",
   "id": "47d9ea8f-2697-4a05-a7f8-5e9a882ff19a",
   "metadata": {},
   "source": [
    "Il est maintenant possible de représenter les données sur le premier plan factoriel. Dans ce graphique, il est important de noter le pourcentage de variance expliquée."
   ]
  },
  {
   "cell_type": "code",
   "execution_count": null,
   "id": "2fb2b5d0-a2ef-4011-a35a-1e2c8555a12d",
   "metadata": {},
   "outputs": [],
   "source": [
    "# --- Dictionnaire de correspondance pour les couleurs ---\n",
    "\n",
    "color_mapping = {\n",
    "    \"bleu foncé\": \"darkblue\",\n",
    "    \"blanc bleuté\": \"lightblue\",\n",
    "    \"bleu moyen\": \"mediumblue\",\n",
    "    \"bleu turquoise\": \"turquoise\",\n",
    "    \"vert\": \"green\",\n",
    "    \"rouge foncé\": \"darkred\",\n",
    "    \"violet\": \"purple\",\n",
    "    \"rouge clair\": \"lightcoral\",\n",
    "    \"rose\": \"pink\",\n",
    "    \"blanc\": \"grey\",\n",
    "    \"jaune\": \"yellow\",\n",
    "    \"brun\": \"black\" \n",
    "}\n",
    "reliure_pca_df[\"ColorMapped\"] = reliure_pca_df[\"Couleur\"].map(color_mapping)\n",
    "\n",
    "# Récupérer automatiquement les labels pour Dim1, Dim2 et Dim3\n",
    "dim1_label = f\"Dim1 ({eig.loc[eig['Dimension']=='Dim1', '% variance expliquée'].values[0]}%)\"\n",
    "dim2_label = f\"Dim2 ({eig.loc[eig['Dimension']=='Dim2', '% variance expliquée'].values[0]}%)\"\n",
    "dim3_label = f\"Dim3 ({eig.loc[eig['Dimension']=='Dim3', '% variance expliquée'].values[0]}%)\"\n",
    "\n",
    "# --- Création de la grille 3 lignes x 2 colonnes pour les 6 graphiques ---\n",
    "fig, axs = plt.subplots(nrows=3, ncols=2, figsize=(15, 20))\n",
    "\n",
    "# ---------- Ligne 1 : Dim1 vs Dim2 ----------\n",
    "# Gauche : sans annotations\n",
    "axs[0, 0].scatter(reliure_pca_df[\"Dim1\"], reliure_pca_df[\"Dim2\"],\n",
    "                  c=reliure_pca_df[\"ColorMapped\"], s=100)\n",
    "axs[0, 0].set_xlabel(dim1_label, fontsize=12)\n",
    "axs[0, 0].set_ylabel(dim2_label, fontsize=12)\n",
    "axs[0, 0].set_title(\"Dim1 vs Dim2\", fontsize=14)\n",
    "axs[0, 0].grid(True)\n",
    "\n",
    "# Droite : avec annotations\n",
    "axs[0, 1].scatter(reliure_pca_df[\"Dim1\"], reliure_pca_df[\"Dim2\"],\n",
    "                  c=reliure_pca_df[\"ColorMapped\"], s=100)\n",
    "for index, row in reliure_pca_df.iterrows():\n",
    "    # Vous pouvez adapter la condition d'annotation selon vos critères\n",
    "    if (abs(row[\"Dim1\"]) > 5) or (abs(row[\"Dim2\"]) > 0):\n",
    "        axs[0, 1].annotate(row[\"Localisation\"],\n",
    "                           (row[\"Dim1\"], row[\"Dim2\"]),\n",
    "                           fontsize=9,\n",
    "                           textcoords=\"offset points\",\n",
    "                           xytext=(5, 5))\n",
    "axs[0, 1].set_xlabel(dim1_label, fontsize=12)\n",
    "axs[0, 1].set_ylabel(dim2_label, fontsize=12)\n",
    "axs[0, 1].set_title(\"Dim1 vs Dim2 avec annotations\", fontsize=14)\n",
    "axs[0, 1].grid(True)\n",
    "\n",
    "# ---------- Ligne 2 : Dim1 vs Dim3 ----------\n",
    "# Gauche : sans annotations\n",
    "axs[1, 0].scatter(reliure_pca_df[\"Dim1\"], reliure_pca_df[\"Dim3\"],\n",
    "                  c=reliure_pca_df[\"ColorMapped\"], s=100)\n",
    "axs[1, 0].set_xlabel(dim1_label, fontsize=12)\n",
    "axs[1, 0].set_ylabel(dim3_label, fontsize=12)\n",
    "axs[1, 0].set_title(\"Dim1 vs Dim3\", fontsize=14)\n",
    "axs[1, 0].grid(True)\n",
    "\n",
    "# Droite : avec annotations\n",
    "axs[1, 1].scatter(reliure_pca_df[\"Dim1\"], reliure_pca_df[\"Dim3\"],\n",
    "                  c=reliure_pca_df[\"ColorMapped\"], s=100)\n",
    "for index, row in reliure_pca_df.iterrows():\n",
    "    if (abs(row[\"Dim1\"]) > 5) or (abs(row[\"Dim3\"]) > 0):\n",
    "        axs[1, 1].annotate(row[\"Localisation\"],\n",
    "                           (row[\"Dim1\"], row[\"Dim3\"]),\n",
    "                           fontsize=9,\n",
    "                           textcoords=\"offset points\",\n",
    "                           xytext=(5, 5))\n",
    "axs[1, 1].set_xlabel(dim1_label, fontsize=12)\n",
    "axs[1, 1].set_ylabel(dim3_label, fontsize=12)\n",
    "axs[1, 1].set_title(\"Dim1 vs Dim3 avec annotations\", fontsize=14)\n",
    "axs[1, 1].grid(True)\n",
    "\n",
    "# ---------- Ligne 3 : Dim2 vs Dim3 ----------\n",
    "# Gauche : sans annotations\n",
    "axs[2, 0].scatter(reliure_pca_df[\"Dim2\"], reliure_pca_df[\"Dim3\"],\n",
    "                  c=reliure_pca_df[\"ColorMapped\"], s=100)\n",
    "axs[2, 0].set_xlabel(dim2_label, fontsize=12)\n",
    "axs[2, 0].set_ylabel(dim3_label, fontsize=12)\n",
    "axs[2, 0].set_title(\"Dim2 vs Dim3\", fontsize=14)\n",
    "axs[2, 0].grid(True)\n",
    "\n",
    "# Droite : avec annotations\n",
    "axs[2, 1].scatter(reliure_pca_df[\"Dim2\"], reliure_pca_df[\"Dim3\"],\n",
    "                  c=reliure_pca_df[\"ColorMapped\"], s=100)\n",
    "for index, row in reliure_pca_df.iterrows():\n",
    "    if (abs(row[\"Dim2\"]) > 5) or (abs(row[\"Dim3\"]) > 0):\n",
    "        axs[2, 1].annotate(row[\"Localisation\"],\n",
    "                           (row[\"Dim2\"], row[\"Dim3\"]),\n",
    "                           fontsize=9,\n",
    "                           textcoords=\"offset points\",\n",
    "                           xytext=(5, 5))\n",
    "axs[2, 1].set_xlabel(dim2_label, fontsize=12)\n",
    "axs[2, 1].set_ylabel(dim3_label, fontsize=12)\n",
    "axs[2, 1].set_title(\"Dim2 vs Dim3 avec annotations\", fontsize=14)\n",
    "axs[2, 1].grid(True)\n",
    "\n",
    "plt.tight_layout()\n",
    "# On enregistre l'image en .jpeg\n",
    "plt.savefig(\"pca_plots.jpeg\", format=\"jpeg\", dpi=300, bbox_inches=\"tight\")\n",
    "plt.show()\n",
    "\n"
   ]
  },
  {
   "cell_type": "markdown",
   "id": "ba152432-8e97-4749-a1de-2093a6061d69",
   "metadata": {},
   "source": [
    "## Représentation en 3D "
   ]
  },
  {
   "cell_type": "code",
   "execution_count": null,
   "id": "81dc888c-c709-43fc-a640-65c524948abb",
   "metadata": {},
   "outputs": [],
   "source": [
    "# --- Création de la grille 1 lignes x 2 colonnes pour les 2 graphiques ---\n",
    "fig, axs = plt.subplots(nrows=1, ncols=2, figsize=(15, 20), subplot_kw={'projection': \"3d\"})\n",
    "\n",
    "\n",
    "# Gauche : sans annotations\n",
    "axs[0].scatter(reliure_pca_df[\"Dim1\"], reliure_pca_df[\"Dim2\"], reliure_pca_df[\"Dim3\"],\n",
    "                  c=reliure_pca_df[\"ColorMapped\"], s=100)\n",
    "axs[0].set_xlabel(dim1_label, fontsize=12)\n",
    "axs[0].set_ylabel(dim2_label, fontsize=12)\n",
    "axs[0].set_zlabel(dim3_label, fontsize=12)\n",
    "axs[0].grid(True)\n",
    "\n",
    "# Droite : avec annotations - ça ne marche pas, à modifier plus tard\n",
    "axs[1].scatter(reliure_pca_df[\"Dim1\"], reliure_pca_df[\"Dim2\"], reliure_pca_df[\"Dim3\"],\n",
    "                  c=reliure_pca_df[\"ColorMapped\"], s=100)\n",
    "for index, row in reliure_pca_df.iterrows():\n",
    "    # Vous pouvez adapter la condition d'annotation selon vos critères\n",
    "    if (abs(row[\"Dim1\"]) > 5) or (abs(row[\"Dim2\"]) > 0):\n",
    "        axs[1].annotate(row[\"Localisation\"],\n",
    "                           (row[\"Dim1\"], row[\"Dim2\"]),\n",
    "                           fontsize=9,\n",
    "                           textcoords=\"offset points\",\n",
    "                           xytext=(5, 5))\n",
    "axs[1].set_xlabel(dim1_label, fontsize=12)\n",
    "axs[1].set_ylabel(dim2_label, fontsize=12)\n",
    "axs[0].set_zlabel(dim3_label, fontsize=12)\n",
    "axs[1].grid(True)\n",
    "\n",
    "plt.tight_layout()\n",
    "plt.show()\n"
   ]
  },
  {
   "cell_type": "markdown",
   "id": "48f2fd0b-1982-42a7-8f5b-48fe9ad33a28",
   "metadata": {},
   "source": [
    "## Représentation des variables "
   ]
  },
  {
   "cell_type": "code",
   "execution_count": null,
   "id": "270a3047-587e-4bdc-aea5-8ba274010030",
   "metadata": {},
   "outputs": [],
   "source": [
    "n=reliure_num.shape[0] # nombre d'individus\n",
    "p=reliure_num.shape[1] # nombre de variables\n",
    "n\n",
    "eigval = (n-1)/n*pca.explained_variance_ #valeurs propres\n",
    "sqrt_eigval = np.sqrt(eigval) # racine carré des valeurs propres\n",
    "n_components = pca.components_.shape[0]  # ou simplement len(sqrt_eigval)\n",
    "\n",
    "corvar = np.zeros((p, n_components)) # attention à l'orientation\n",
    "for k in range(n_components):\n",
    "    corvar[:,k] = pca.components_[k,:] * sqrt_eigval[k]\n",
    "# on modifie pour avoir un dataframe\n",
    "coordvar = pd.DataFrame({'id': reliure_num.columns, 'COR_1': corvar[:,0], 'COR_2': corvar[:,1]})\n",
    "coordvar.head(3)"
   ]
  },
  {
   "cell_type": "markdown",
   "id": "b31f0b45-1329-4a61-ab85-691f43d8ed73",
   "metadata": {},
   "source": [
    "On peut ensuite afficher le cercle des corrélations"
   ]
  },
  {
   "cell_type": "code",
   "execution_count": null,
   "id": "51242262-cf8f-48ec-860d-0287c804f295",
   "metadata": {},
   "outputs": [],
   "source": [
    "# Création d'une figure vide (avec des axes entre -1 et 1 + le titre)\n",
    "fig, axes = plt.subplots(figsize = (6,6))\n",
    "fig.suptitle(\"Cercle des corrélations\")\n",
    "axes.set_xlim(-1, 1)\n",
    "axes.set_ylim(-1, 1)\n",
    "# Ajout des axes\n",
    "axes.axvline(x = 0, color = 'lightgray', linestyle = '--', linewidth = 1)\n",
    "axes.axhline(y = 0, color = 'lightgray', linestyle = '--', linewidth = 1)\n",
    "# Ajout des noms des variables\n",
    "for j in range(p):\n",
    "    axes.text(coordvar[\"COR_1\"][j],coordvar[\"COR_2\"][j], coordvar[\"id\"][j])\n",
    "# Ajout du cercle\n",
    "plt.gca().add_artist(plt.Circle((0,0),1,color='blue',fill=False))\n",
    "plt.show()\n",
    "\n"
   ]
  },
  {
   "cell_type": "markdown",
   "id": "ed7f63f2-0a6a-4af0-abff-d754d0cca721",
   "metadata": {},
   "source": [
    "## Représentation conjointe des loadings et des individus"
   ]
  },
  {
   "cell_type": "code",
   "execution_count": null,
   "id": "31ea3057-e7f9-4f74-9422-de6c0ac8c73b",
   "metadata": {
    "scrolled": true
   },
   "outputs": [],
   "source": [
    "# Récupérer la liste des éléments chimiques (les variables utilisées dans la PCA)\n",
    "chemical_elements = reliure_num.columns\n",
    "\n",
    "# Calculer les loadings : pca.components_ est de forme (n_components, n_features)\n",
    "# On transpose pour obtenir un tableau de forme (n_features, n_components)\n",
    "loadings = pca.components_.T\n",
    "\n",
    "# Construction automatique des labels des axes à partir de eig\n",
    "dim1_label = f\"Dim1 ({eig.loc[eig['Dimension']=='Dim1', '% variance expliquée'].values[0]}%)\"\n",
    "dim2_label = f\"Dim2 ({eig.loc[eig['Dimension']=='Dim2', '% variance expliquée'].values[0]}%)\"\n",
    "dim3_label = f\"Dim3 ({eig.loc[eig['Dimension']=='Dim3', '% variance expliquée'].values[0]}%)\"\n",
    "\n",
    "# Fonction pour ajouter les flèches (loadings) avec un décalage pour éviter les chevauchements\n",
    "def add_loadings(ax, dim_x, dim_y, scale=3, offset=0.2):\n",
    "    \"\"\"\n",
    "    Ajoute sur l'axe ax les flèches et étiquettes des éléments chimiques pour les dimensions d'indice dim_x et dim_y.\n",
    "    Le paramètre scale ajuste la longueur des flèches, et offset permet de décaler les textes.\n",
    "    \"\"\"\n",
    "    for i, var in enumerate(chemical_elements):\n",
    "        x_arrow = loadings[i, dim_x] * scale\n",
    "        y_arrow = loadings[i, dim_y] * scale\n",
    "        ax.arrow(0, 0, x_arrow, y_arrow, color='black', width=0.005, head_width=0.1)\n",
    "        # On déplace l'étiquette en multipliant par (1 + offset)\n",
    "        ax.text(x_arrow * (1 + offset), y_arrow * (1 + offset), var,\n",
    "                color='black', fontsize=10, ha='center', va='center')\n",
    "\n",
    "# Création de la grille 2x2 (4 sous-graphiques)\n",
    "fig, axs = plt.subplots(nrows=2, ncols=2, figsize=(16, 14))\n",
    "\n",
    "# ---------- Diagramme 1 (Haut-gauche): Dim1 vs Dim2 ----------\n",
    "ax1 = axs[0,0]\n",
    "ax1.scatter(reliure_pca_df[\"Dim1\"], reliure_pca_df[\"Dim2\"],\n",
    "            c=reliure_pca_df[\"ColorMapped\"], s=100, alpha=0.7)\n",
    "# Annotation des individus (par exemple, avec \"Localisation\")\n",
    "for index, row in reliure_pca_df.iterrows():\n",
    "    ax1.annotate(row[\"Localisation\"],\n",
    "                 (row[\"Dim1\"], row[\"Dim2\"]),\n",
    "                 fontsize=9,\n",
    "                 textcoords=\"offset points\",\n",
    "                 xytext=(5, 5))\n",
    "ax1.set_xlabel(dim1_label, fontsize=12)\n",
    "ax1.set_ylabel(dim2_label, fontsize=12)\n",
    "ax1.set_title(\"Dim1 vs Dim2\", fontsize=14)\n",
    "ax1.grid(True)\n",
    "add_loadings(ax1, dim_x=0, dim_y=1, scale=3, offset=0.2)\n",
    "\n",
    "# ---------- Diagramme 2 (Haut-droite): Dim1 vs Dim3 ----------\n",
    "ax2 = axs[0,1]\n",
    "ax2.scatter(reliure_pca_df[\"Dim1\"], reliure_pca_df[\"Dim3\"],\n",
    "            c=reliure_pca_df[\"ColorMapped\"], s=100, alpha=0.7)\n",
    "for index, row in reliure_pca_df.iterrows():\n",
    "    ax2.annotate(row[\"Localisation\"],\n",
    "                 (row[\"Dim1\"], row[\"Dim3\"]),\n",
    "                 fontsize=9,\n",
    "                 textcoords=\"offset points\",\n",
    "                 xytext=(5, 5))\n",
    "ax2.set_xlabel(dim1_label, fontsize=12)\n",
    "ax2.set_ylabel(dim3_label, fontsize=12)\n",
    "ax2.set_title(\"Dim1 vs Dim3\", fontsize=14)\n",
    "ax2.grid(True)\n",
    "add_loadings(ax2, dim_x=0, dim_y=2, scale=3, offset=0.2)\n",
    "\n",
    "# ---------- Diagramme 3 (Bas-gauche): Dim2 vs Dim3 ----------\n",
    "ax3 = axs[1,0]\n",
    "ax3.scatter(reliure_pca_df[\"Dim2\"], reliure_pca_df[\"Dim3\"],\n",
    "            c=reliure_pca_df[\"ColorMapped\"], s=100, alpha=0.7)\n",
    "for index, row in reliure_pca_df.iterrows():\n",
    "    ax3.annotate(row[\"Localisation\"],\n",
    "                 (row[\"Dim2\"], row[\"Dim3\"]),\n",
    "                 fontsize=9,\n",
    "                 textcoords=\"offset points\",\n",
    "                 xytext=(5, 5))\n",
    "ax3.set_xlabel(dim2_label, fontsize=12)\n",
    "ax3.set_ylabel(dim3_label, fontsize=12)\n",
    "ax3.set_title(\"Dim2 vs Dim3\", fontsize=14)\n",
    "ax3.grid(True)\n",
    "add_loadings(ax3, dim_x=1, dim_y=2, scale=3, offset=0.2)\n",
    "\n",
    "# ---------- Panneau 4 (Bas-droite): vide ou à utiliser pour une légende par exemple ----------\n",
    "axs[1,1].axis(\"off\")\n",
    "\n",
    "plt.tight_layout()\n",
    "plt.savefig(\"pca_plots_variables.jpeg\", format=\"jpeg\", dpi=300, bbox_inches=\"tight\")\n",
    "plt.show()\n"
   ]
  },
  {
   "cell_type": "markdown",
   "id": "c79c965d-e016-4a57-bb48-1db36ee2ba36",
   "metadata": {},
   "source": [
    "## Classification k-means"
   ]
  },
  {
   "cell_type": "markdown",
   "id": "b97e870d-5c08-45bf-842a-219843aa5803",
   "metadata": {},
   "source": [
    "Nous allons l'appliquer avec 2 et 3 classes afin de voir quelle partition serait la plus intéressante.\n",
    "On peut avoir ainsi les classes de chaque individus (qui nous servent ici à calculer la taille de chaque classe), ainsi que les centres des classes.\n",
    "L'algorithme k-means nous permet d'avoir à la fin l'inertie intra-classes, qui représente la disparité des individus à l'intérieur des classes. Plus cette valeur est proche de 0, meilleur est la partition. Malheureusement, la meilleure partition selon ce critère est donc celle avec autant de classes que d'individus. On va donc chercher un point d'inflexion dans la courbe d'évolution de ce critère. Voici comment faire pour avoir ce graphique. Et ici, le point le plus marquant est celui à 2 classes. Ensuite, celui à 3 classes peut montrer aussi une certaine cassure dans l'évolution du critère."
   ]
  },
  {
   "cell_type": "code",
   "execution_count": null,
   "id": "30202a25-c0d2-4556-8114-5e9ca011d2fd",
   "metadata": {},
   "outputs": [],
   "source": [
    "from sklearn.cluster import KMeans\n",
    "kmeans2 = KMeans(n_clusters = 2)\n",
    "kmeans2.fit(reliure_num)\n",
    "print(pd.Series(kmeans2.labels_).value_counts())\n",
    "#kmeans2.cluster_centers_\n",
    "reliure_k2 = reliure_num.assign(classe = kmeans2.labels_)\n",
    "reliure_k2.groupby(\"classe\").mean()"
   ]
  },
  {
   "cell_type": "code",
   "execution_count": null,
   "id": "fb59c416-7e7c-4633-9b08-173c9d8bf15e",
   "metadata": {},
   "outputs": [],
   "source": [
    "kmeans3 = KMeans(n_clusters = 3)\n",
    "kmeans3.fit(reliure_num)\n",
    "print(pd.Series(kmeans3.labels_).value_counts())\n",
    "reliure_k3 = reliure_num.assign(classe = kmeans3.labels_)\n",
    "reliure_k3.groupby(\"classe\").mean()"
   ]
  },
  {
   "cell_type": "code",
   "execution_count": null,
   "id": "382ea5dd-5e2e-426b-82c6-46ad93170147",
   "metadata": {},
   "outputs": [],
   "source": [
    "# --- Création de la grille 2x2 ---\n",
    "fig, axs = plt.subplots(nrows=2, ncols=2, figsize=(15, 15))\n",
    "\n",
    "# ---------- Top-Left : Clustering k-means avec 2 groupes ----------\n",
    "kmeans2 = KMeans(n_clusters=2, random_state=42)\n",
    "kmeans2.fit(reliure_num)\n",
    "# On assigne les labels au DataFrame PCA\n",
    "reliure_pca_k2 = reliure_pca_df.assign(classe=kmeans2.labels_)\n",
    "axs[0, 0].scatter(reliure_pca_k2[\"Dim1\"], reliure_pca_k2[\"Dim2\"],\n",
    "                  c=reliure_pca_k2[\"classe\"], cmap=\"Set1\", s=100)\n",
    "axs[0, 0].set_xlabel(dim1_label, fontsize=12)\n",
    "axs[0, 0].set_ylabel(dim2_label, fontsize=12)\n",
    "axs[0, 0].set_title(\"Clustering k-means = 2\", fontsize=14)\n",
    "axs[0, 0].grid(True)\n",
    "\n",
    "# ---------- Top-Right : Clustering k-means avec 3 groupes ----------\n",
    "kmeans3 = KMeans(n_clusters=3, random_state=42)\n",
    "kmeans3.fit(reliure_num)\n",
    "reliure_pca_k3 = reliure_pca_df.assign(classe=kmeans3.labels_)\n",
    "axs[0, 1].scatter(reliure_pca_k3[\"Dim1\"], reliure_pca_k3[\"Dim2\"],\n",
    "                  c=reliure_pca_k3[\"classe\"], cmap=\"Set1\", s=100)\n",
    "axs[0, 1].set_xlabel(dim1_label, fontsize=12)\n",
    "axs[0, 1].set_ylabel(dim2_label, fontsize=12)\n",
    "axs[0, 1].set_title(\"Clustering k-means = 3\", fontsize=14)\n",
    "axs[0, 1].grid(True)\n",
    "\n",
    "# ---------- Bottom-Left : Courbe d'inertie pour k = 1 à 10 ----------\n",
    "inertia = []\n",
    "for k in range(1, 11):\n",
    "    km = KMeans(n_clusters=k, init=\"random\", n_init=20, random_state=42).fit(reliure_num)\n",
    "    inertia.append(km.inertia_)\n",
    "inertia_df = pd.DataFrame({\"k\": range(1, 11), \"inertia\": inertia})\n",
    "axs[1, 0].plot(inertia_df[\"k\"], inertia_df[\"inertia\"], marker=\"o\", linestyle=\"-\")\n",
    "# Mettre en évidence k = 2 et k = 3\n",
    "axs[1, 0].scatter(2, inertia_df[inertia_df[\"k\"] == 2][\"inertia\"], c=\"red\", s=100)\n",
    "axs[1, 0].scatter(3, inertia_df[inertia_df[\"k\"] == 3][\"inertia\"], c=\"red\", s=100)\n",
    "axs[1, 0].set_xlabel(\"k\", fontsize=12)\n",
    "axs[1, 0].set_ylabel(\"Inertia\", fontsize=12)\n",
    "axs[1, 0].set_title(\"Courbe d'inertie k-means\", fontsize=14)\n",
    "axs[1, 0].grid(True)\n",
    "\n",
    "# ---------- Bottom-Right : Panneau vide ----------\n",
    "axs[1, 1].axis(\"off\")\n",
    "\n",
    "plt.tight_layout()\n",
    "plt.show()"
   ]
  }
 ],
 "metadata": {
  "kernelspec": {
   "display_name": "Python 3 (ipykernel)",
   "language": "python",
   "name": "python3"
  },
  "language_info": {
   "codemirror_mode": {
    "name": "ipython",
    "version": 3
   },
   "file_extension": ".py",
   "mimetype": "text/x-python",
   "name": "python",
   "nbconvert_exporter": "python",
   "pygments_lexer": "ipython3",
   "version": "3.12.5"
  }
 },
 "nbformat": 4,
 "nbformat_minor": 5
}
