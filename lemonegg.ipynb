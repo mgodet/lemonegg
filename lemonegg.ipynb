{
 "cells": [
  {
   "cell_type": "markdown",
   "id": "924ebfb7-ef1d-4247-ad61-b8c4c229801d",
   "metadata": {},
   "source": [
    "# AGLAE PIXE data treatment"
   ]
  },
  {
   "cell_type": "code",
   "execution_count": null,
   "id": "5c1d3029-6151-4956-a9b8-ef0f27b50ceb",
   "metadata": {},
   "outputs": [],
   "source": [
    "%pip install ipywidgets"
   ]
  },
  {
   "cell_type": "code",
   "execution_count": null,
   "id": "83fa1b73-9e88-46cc-9618-d73a457aabba",
   "metadata": {},
   "outputs": [],
   "source": [
    "import bae\n",
    "import ipywidgets as widgets\n",
    "from ipywidgets import interact, interactive, fixed, interact_manual\n",
    "import io\n",
    "import pandas as pd\n",
    "from pandas.api.typing import DataFrameGroupBy"
   ]
  },
  {
   "cell_type": "code",
   "execution_count": null,
   "id": "45224210-ae54-4df9-9f16-72131ed9ad7d",
   "metadata": {},
   "outputs": [],
   "source": [
    "uploader = widgets.FileUpload()\n",
    "display(uploader)"
   ]
  },
  {
   "cell_type": "code",
   "execution_count": null,
   "id": "811d2613-5e0f-4045-aec5-02615d7de975",
   "metadata": {},
   "outputs": [],
   "source": [
    "pd.set_option(\"display.float_format\", \"{:.0f}\".format)\n",
    "def pager(df, start, nb):\n",
    "    return df[start:start+nb]"
   ]
  },
  {
   "cell_type": "code",
   "execution_count": null,
   "id": "43fc0f34-72ee-4037-b9b1-6581dc65b037",
   "metadata": {},
   "outputs": [],
   "source": [
    "print(uploader.value)\n",
    "pige_corrected_compositions_table = pd.read_excel(io.BytesIO(uploader.value[0].content), index_col=[0, 1, 2, 3])\n",
    "normalized_compositions_table = pige_corrected_compositions_table.apply(bae.normalize, axis=1)"
   ]
  },
  {
   "cell_type": "code",
   "execution_count": null,
   "id": "cd93ba79-9f50-4726-808d-8bc1651e1140",
   "metadata": {},
   "outputs": [],
   "source": [
    "def extract_simplified_name(row):\n",
    "    name = row[2]\n",
    "    if \"_\" in name:\n",
    "        split = name.rsplit('_', 1)\n",
    "        return split[0] if \"pt\" in split[1] or \"map\" in split[1] else name\n",
    "    else:\n",
    "        return name\n",
    "\n",
    "x_widget = widgets.FloatSlider(min=0.2, max=3.0, step=0.1)\n",
    "@interact(df=fixed(normalized_compositions_table), tolerance=x_widget, threshold=fixed(10000))\n",
    "def remove_outliners(df: pd.DataFrame, tolerance, threshold=10000):\n",
    "    to_delete=[]\n",
    "    major_group = df[normalized_compositions_table > threshold].groupby(extract_simplified_name, sort=False)\n",
    "    for name, grp in major_group:\n",
    "        if grp.count().max() <= 1:\n",
    "            continue\n",
    "        median = grp.median()\n",
    "        d = (grp - median)/median\n",
    "        for i, row in d.iterrows():\n",
    "            #print(row)\n",
    "            for j, elt in row[row>tolerance].items():\n",
    "                print(i[2], j)\n",
    "                to_delete.append(i)\n",
    "                #to_delete.loc[i] = j\n",
    "    return to_delete\n",
    "\n",
    "#normalized_compositions_table.loc[to_delete[0]]\n",
    "#df_group.filter(detect_outliers)\n",
    "#pager(res,5,10)\n",
    "#pager(comp_table_without_outliners,90,10)\n",
    "#for idx in to_delete:\n",
    "#    print(idx[2])\n"
   ]
  },
  {
   "cell_type": "code",
   "execution_count": null,
   "id": "22f11a8c-2266-49e8-bd1a-be54df0d490a",
   "metadata": {},
   "outputs": [],
   "source": [
    "table_without_outliners = normalized_compositions_table.drop(remove_outliners(normalized_compositions_table, tolerance=0.5))\n"
   ]
  },
  {
   "cell_type": "code",
   "execution_count": null,
   "id": "5ca7faa9-15ed-4261-bdb8-f8c16c456397",
   "metadata": {},
   "outputs": [],
   "source": [
    "final_table_ppm = table_without_outliners.groupby(extract_simplified_name, sort=False).agg([\"mean\", \"std\"])\n",
    "pager(table_without_outliners.groupby(extract_simplified_name, sort=False).agg([\"mean\", \"std\"]), 5, 40)"
   ]
  },
  {
   "cell_type": "code",
   "execution_count": null,
   "id": "a774a080-6cb9-4b80-bf16-badb8f85a592",
   "metadata": {},
   "outputs": [],
   "source": [
    "major_elements_list = [\"Na2O PIGE\", \"MgO\", \"Al2O3\", \"SiO2\", \"P2O5\", \"SO3\", \"Cl\", \"K2O\", \"CaO\", \"TiO2\",\"V2O3\", \"Cr2O3\", \"MnO\", \"Fe2O3\", \"CoO\", \"NiO\", \"CuO\", \"ZnO\", \"As2O5\", \"SrO\", \"Ag2O\", \"SnO2\", \"Sb2O5\", \"BaO\", \"Au2O3\", \"PbO\"]"
   ]
  },
  {
   "cell_type": "code",
   "execution_count": null,
   "id": "33ea7d98-3db9-4ace-8b7a-578892c3bd89",
   "metadata": {},
   "outputs": [],
   "source": [
    "final_table_ppm_major_elements = final_table_ppm[major_elements_list]\n",
    "pager(final_table_ppm_major_elements,5,40)"
   ]
  },
  {
   "cell_type": "code",
   "execution_count": null,
   "id": "843be7b6-8d2b-4aef-884f-a4e83f37794a",
   "metadata": {},
   "outputs": [],
   "source": [
    "final_table_wt = (final_table_ppm / 10000).round(3)\n",
    "pager(final_table_wt,5,40)"
   ]
  },
  {
   "cell_type": "code",
   "execution_count": null,
   "id": "f44837b2-97fc-457b-8fd9-b8dec14a6ec6",
   "metadata": {},
   "outputs": [],
   "source": [
    "final_table_wt_major_elts = final_table_wt[major_elements_list]"
   ]
  },
  {
   "cell_type": "code",
   "execution_count": null,
   "id": "a3377744-0ec5-488a-bad7-7fdeffbb96f9",
   "metadata": {},
   "outputs": [],
   "source": [
    "with pd.ExcelWriter(\"final.xlsx\") as writer:\n",
    "    final_table_ppm.map(lambda x: f\"{x:.0f}\").to_excel(writer, sheet_name=\"ppm all elements\")\n",
    "    final_table_ppm_major_elements.map(lambda x: f\"{x:.0f}\").to_excel(writer, sheet_name=\"ppm major elements\")\n",
    "    final_table_wt.to_excel(writer, sheet_name=\"wt all elements\")\n",
    "    final_table_wt_major_elts.to_excel(writer, sheet_name=\"wt major elements\")"
   ]
  },
  {
   "cell_type": "code",
   "execution_count": null,
   "id": "c406e8f3-fc9c-42f2-849e-cf65a37ddcd5",
   "metadata": {},
   "outputs": [],
   "source": []
  }
 ],
 "metadata": {
  "kernelspec": {
   "display_name": "Python 3 (ipykernel)",
   "language": "python",
   "name": "python3"
  },
  "language_info": {
   "codemirror_mode": {
    "name": "ipython",
    "version": 3
   },
   "file_extension": ".py",
   "mimetype": "text/x-python",
   "name": "python",
   "nbconvert_exporter": "python",
   "pygments_lexer": "ipython3",
   "version": "3.12.5"
  }
 },
 "nbformat": 4,
 "nbformat_minor": 5
}
