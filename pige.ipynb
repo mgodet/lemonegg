{
 "cells": [
  {
   "cell_type": "markdown",
   "id": "c172ed8d-4619-4552-a05b-48b44ad6874a",
   "metadata": {},
   "source": [
    "# AGLAE PIGE data treatment"
   ]
  },
  {
   "cell_type": "code",
   "execution_count": null,
   "id": "1173e94f-9857-413a-8eed-df27822dc13f",
   "metadata": {},
   "outputs": [],
   "source": [
    "%pip install ipywidgets xlrd"
   ]
  },
  {
   "cell_type": "code",
   "execution_count": null,
   "id": "8c818f66-6b36-4b96-8c2c-1a672c07ff1b",
   "metadata": {},
   "outputs": [],
   "source": [
    "import bae\n",
    "import ipywidgets as widgets\n",
    "from ipywidgets import interact, interactive, fixed, interact_manual\n",
    "import io\n",
    "import pandas as pd\n",
    "from pandas.api.typing import DataFrameGroupBy\n",
    "import matplotlib.pyplot as plt\n",
    "import numpy as np"
   ]
  },
  {
   "cell_type": "code",
   "execution_count": null,
   "id": "758d7efd-23a7-41f2-86d7-04058a5d06c8",
   "metadata": {},
   "outputs": [],
   "source": [
    "uploader_report = widgets.FileUpload()\n",
    "display(uploader_report)"
   ]
  },
  {
   "cell_type": "code",
   "execution_count": null,
   "id": "016399e8-da73-460e-af8f-6ad6354cf8d9",
   "metadata": {},
   "outputs": [],
   "source": [
    "uploader = widgets.FileUpload()\n",
    "display(uploader)"
   ]
  },
  {
   "cell_type": "code",
   "execution_count": null,
   "id": "4d94cd81-5cb3-41c0-9dca-48fabd5120e0",
   "metadata": {},
   "outputs": [],
   "source": [
    "print(uploader.value)\n",
    "print(uploader_report.value)\n",
    "pige_table = pd.read_csv(io.BytesIO(uploader.value[0].content), sep=\"\\t\")\n",
    "report = pd.read_excel(io.BytesIO(uploader_report.value[0].content))"
   ]
  },
  {
   "cell_type": "markdown",
   "id": "8927cd0a-cb18-4bf1-b3dd-9ac8a8da5c48",
   "metadata": {},
   "source": [
    "# On garde les tableaux avec uniquement les standards"
   ]
  },
  {
   "cell_type": "code",
   "execution_count": null,
   "id": "76525c62-b8dc-452f-aa40-f9d2b27002ea",
   "metadata": {},
   "outputs": [],
   "source": [
    "stds = pd.DataFrame(\n",
    "    {\n",
    "         \"Nom std\": [\"BrillA\", \"BrillB\", \"BrillC\", \"BrillD\", \"BG4\", \"BG3\"],\n",
    "         \"Conc theorique\": [143900, 172600, 12000, 10700, 50000, 75000],\n",
    "    }\n",
    ")\n",
    "\n",
    "nb_stds = len(stds)\n",
    "\n",
    "report_stds = report[report[\"Ref Objet\"].isin(stds[\"Nom std\"])]\n",
    "pige_stds = pige_table[pige_table[\"Nom Fichier\"].str.contains(\"|\".join(stds[\"Nom std\"]), regex=True)]\n",
    "\n",
    "# conversion des colonnes de durées\n",
    "#report_stds[\"Time\"] = pd.to_timedelta(report_stds[\"Time\"])\n",
    "#report_stds[\"Analyse time\"] = pd.to_timedelta(report_stds[\"Analyse time\"])\n",
    "\n",
    "# on vérifie que les tableaux report et pige_stds ont bien un nombre de lignes multiple du nombre de standards (6 en général)\n",
    "\n",
    "if len(report_stds)%nb_stds == 0:\n",
    "    print(f\"youpi: la longueur du tableau report est bien un multiple de {nb_stds}\")\n",
    "else:\n",
    "    print(\"fatal error: problème de longueur du tableau report\")\n",
    "\n",
    "if len(pige_stds)%nb_stds == 0:\n",
    "    print(f\"youpi: la longueur du tableau pige_stds est bien un multiple de {nb_stds}\")\n",
    "else:\n",
    "    print(\"fatal error: problème de longueur du tableau pige_stds\")\n",
    "    "
   ]
  },
  {
   "cell_type": "markdown",
   "id": "f62a5049-a87c-4a72-a358-fa942cfcadce",
   "metadata": {},
   "source": [
    "# Calcul Aire Gaussienne / Dose\n",
    "On calcule l'aire sur dose pour tracer la courbe de calibration PIGE"
   ]
  },
  {
   "cell_type": "code",
   "execution_count": null,
   "id": "a366a4dc-d0b8-4720-b4ef-3296314f3c81",
   "metadata": {},
   "outputs": [],
   "source": [
    "ad = pige_stds[\"Aire Gaussien\"]/report_stds[\"Dose\"]\n",
    "nb_analyses = int(len(report_stds)/nb_stds)\n",
    "\n",
    "ad_stds = pd.DataFrame(\n",
    "    {\n",
    "        \"Nom std\": report_stds[\"Ref Objet\"], \n",
    "        \"A/D\": ad, \n",
    "    }\n",
    ")\n",
    "\n",
    "# On crée une liste de dataframe pour chaque analyse de standards de la journée, avec et sans Pb\n",
    "ad_stds_sansPb = []\n",
    "ad_stds_avecPb = []\n",
    "\n",
    "# On fait une boucle for pour parcourir le tableau ad par bloc du nombre de standards et extraire ceux avec du Pb et ceux sans\n",
    "for i in range(0, len(ad_stds), nb_stds):\n",
    "    ad_stds_i = ad_stds[i:i+nb_stds]\n",
    "    ad_stds_sansPb.append(ad_stds_i[ad_stds_i[\"Nom std\"].isin([\"BrillA\",\"BrillB\",\"BrillD\"])])\n",
    "    ad_stds_avecPb.append(ad_stds_i[ad_stds_i[\"Nom std\"].isin([\"BrillC\",\"BG4\",\"BG3\"])])\n",
    "\n",
    "conc_stds_sansPb = stds[stds[\"Nom std\"].isin([\"BrillA\",\"BrillB\",\"BrillD\"])]\n",
    "conc_stds_avecPb = stds[stds[\"Nom std\"].isin([\"BrillC\",\"BG4\",\"BG3\"])]\n",
    "\n",
    "print(ad_stds)\n",
    "print(ad_stds_sansPb)\n",
    "print(conc_stds_sansPb)\n",
    "print(conc_stds_avecPb)\n",
    "\n",
    "fig, axes = plt.subplots(nrows=1, ncols=2, figsize=(12,4))\n",
    "\n",
    "# Fonction qui va afficher les courbes de calibration et son fit linéaire par méthode des moindres carrés ordinaires\n",
    "def calib(titre, ad, conc, plot_idx):\n",
    "    axes[plot_idx].set_title(titre)\n",
    "    axes[plot_idx].set_xlabel(\"Aire / Dose (u.a.)\")\n",
    "    axes[plot_idx].set_ylabel(\"Concentration théorique (ppm)\")\n",
    "    axes[plot_idx].grid(True)\n",
    "    color = [\"blue\", \"red\"]\n",
    "    \n",
    "    # Boucle for pour afficher toutes les droites de calibration sans plomb\n",
    "    for i, e in enumerate(ad):\n",
    "        x = e[\"A/D\"]\n",
    "        y = conc[\"Conc theorique\"]    \n",
    "                  \n",
    "        axes[plot_idx].plot(e[\"A/D\"],conc[\"Conc theorique\"], '.', label=f\"Analyse {i}\", markersize=12, color=color[i]) \n",
    "        \n",
    "        # Ajustement d'une droite passant par l'origine (y = ax)\n",
    "        coef, _, _, _ = np.linalg.lstsq(np.array(x).reshape(-1, 1), np.array(y), rcond=None)\n",
    "    \n",
    "        \n",
    "        # Prédictions de y pour cette droite ajustée\n",
    "        y_pred = coef[0] * np.array(x)\n",
    "    \n",
    "        # Calcul du coefficient de détermination R²\n",
    "        ss_res = np.sum((y - y_pred) ** 2)\n",
    "        ss_tot = np.sum((y - np.mean(y)) ** 2)\n",
    "        r_squared = 1 - (ss_res / ss_tot)\n",
    "    \n",
    "        # Affichage de la droite ajustée\n",
    "        axes[plot_idx].plot(x, y_pred, label=f\"Droite {i}: y={coef[0]:.2f}x\\nR²={r_squared:.2f}\", linestyle='--')\n",
    "        \n",
    "    axes[plot_idx].legend(loc='best', fontsize=10)\n",
    "\n",
    "calib(\"Courbe de calibration Na PIGE sans Plomb\", ad_stds_sansPb, conc_stds_sansPb, 0)\n",
    "calib(\"Courbe de calibration Na PIGE avec Plomb\", ad_stds_avecPb, conc_stds_avecPb, 1)\n",
    "\n",
    "# Extraction de la colonne \"Time\" et \"Analyse time\" de report\n",
    "for i in range(0, len(report_stds), nb_stds):\n",
    "    time_stds_i = pd.to_timedelta(report_stds[\"Time\"][i:i+nb_stds])\n",
    "    print(time_stds_i)\n",
    "    print(time_stds_i.iloc[0], time_stds_i.iloc[-1], time_stds_i.iloc[-1] - time_stds_i.iloc[0])\n",
    "    #print(i+nb_stds-1, time_stds_i.iloc[i+nb_stds-1])\n",
    "    #print(time_stds_i[i+nb_stds-1] - time_stds_i[i])\n"
   ]
  },
  {
   "cell_type": "code",
   "execution_count": null,
   "id": "29bc2f8e-01c8-4039-b284-96ac5d6c1fde",
   "metadata": {
    "editable": true,
    "slideshow": {
     "slide_type": ""
    },
    "tags": []
   },
   "outputs": [],
   "source": []
  }
 ],
 "metadata": {
  "kernelspec": {
   "display_name": "Python 3 (ipykernel)",
   "language": "python",
   "name": "python3"
  },
  "language_info": {
   "codemirror_mode": {
    "name": "ipython",
    "version": 3
   },
   "file_extension": ".py",
   "mimetype": "text/x-python",
   "name": "python",
   "nbconvert_exporter": "python",
   "pygments_lexer": "ipython3",
   "version": "3.12.5"
  }
 },
 "nbformat": 4,
 "nbformat_minor": 5
}
