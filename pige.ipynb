{
 "cells": [
  {
   "cell_type": "markdown",
   "id": "c172ed8d-4619-4552-a05b-48b44ad6874a",
   "metadata": {},
   "source": [
    "# AGLAE PIGE data treatment"
   ]
  },
  {
   "cell_type": "code",
   "execution_count": null,
   "id": "1173e94f-9857-413a-8eed-df27822dc13f",
   "metadata": {},
   "outputs": [],
   "source": [
    "%pip install ipywidgets xlrd"
   ]
  },
  {
   "cell_type": "code",
   "execution_count": null,
   "id": "8c818f66-6b36-4b96-8c2c-1a672c07ff1b",
   "metadata": {},
   "outputs": [],
   "source": [
    "import bae\n",
    "import ipywidgets as widgets\n",
    "from ipywidgets import interact, interactive, fixed, interact_manual\n",
    "import io\n",
    "import pandas as pd\n",
    "from pandas.api.typing import DataFrameGroupBy"
   ]
  },
  {
   "cell_type": "code",
   "execution_count": null,
   "id": "758d7efd-23a7-41f2-86d7-04058a5d06c8",
   "metadata": {},
   "outputs": [],
   "source": [
    "uploader_report = widgets.FileUpload()\n",
    "display(uploader_report)"
   ]
  },
  {
   "cell_type": "code",
   "execution_count": null,
   "id": "016399e8-da73-460e-af8f-6ad6354cf8d9",
   "metadata": {},
   "outputs": [],
   "source": [
    "uploader = widgets.FileUpload()\n",
    "display(uploader)"
   ]
  },
  {
   "cell_type": "code",
   "execution_count": null,
   "id": "4d94cd81-5cb3-41c0-9dca-48fabd5120e0",
   "metadata": {},
   "outputs": [],
   "source": [
    "print(uploader.value)\n",
    "print(uploader_report.value)\n",
    "pige_table = pd.read_csv(io.BytesIO(uploader.value[0].content), sep=\"\\t\")\n",
    "report = pd.read_excel(io.BytesIO(uploader_report.value[0].content))"
   ]
  },
  {
   "cell_type": "code",
   "execution_count": null,
   "id": "3ec81849-adb9-4e8e-91d6-b7de7d93cd31",
   "metadata": {},
   "outputs": [],
   "source": [
    "#fonction pour voir un sous tableau des données\n",
    "\n",
    "def pager(df, start, nb):\n",
    "    return df[start:start+nb]\n",
    "\n",
    "std_ref_objects = [\n",
    "    \"BrillA\",\n",
    "    \"BrillB\",\n",
    "    \"BrillC\",\n",
    "    \"BrillD\",\n",
    "    \"BG4\",\n",
    "    \"BG3\",\n",
    "]\n",
    "\n",
    "\n",
    "report[report[\"Ref Objet\"].isin(std_ref_objects)]"
   ]
  },
  {
   "cell_type": "markdown",
   "id": "f62a5049-a87c-4a72-a358-fa942cfcadce",
   "metadata": {},
   "source": [
    "# Calcul Aire Gaussienne / Dose\n",
    "On calcule l'aire sur dose pour tracer la courbe de calibration PIGE"
   ]
  },
  {
   "cell_type": "code",
   "execution_count": null,
   "id": "a366a4dc-d0b8-4720-b4ef-3296314f3c81",
   "metadata": {},
   "outputs": [],
   "source": [
    "ad = pige_table[\"Aire Gaussien\"]/report[\"Dose\"]\n",
    "ad.tail(3)"
   ]
  },
  {
   "cell_type": "markdown",
   "id": "233486fa-fd33-49c4-8869-d1ec45f8978b",
   "metadata": {},
   "source": [
    "# Courbe de calibration avec les standards"
   ]
  },
  {
   "cell_type": "code",
   "execution_count": null,
   "id": "29bc2f8e-01c8-4039-b284-96ac5d6c1fde",
   "metadata": {},
   "outputs": [],
   "source": [
    "calib_table = pd.DataFrame(\n",
    "    {\n",
    "        \"Aire/Dose\" : ad,\n",
    "        \n",
    "    }\n",
    ")"
   ]
  }
 ],
 "metadata": {
  "kernelspec": {
   "display_name": "Python 3 (ipykernel)",
   "language": "python",
   "name": "python3"
  },
  "language_info": {
   "codemirror_mode": {
    "name": "ipython",
    "version": 3
   },
   "file_extension": ".py",
   "mimetype": "text/x-python",
   "name": "python",
   "nbconvert_exporter": "python",
   "pygments_lexer": "ipython3",
   "version": "3.12.5"
  }
 },
 "nbformat": 4,
 "nbformat_minor": 5
}
